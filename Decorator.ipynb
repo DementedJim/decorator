{
 "cells": [
  {
   "cell_type": "markdown",
   "metadata": {},
   "source": [
    "# Decorator \n",
    "### Также известен, как wrapper (обертка)\n",
    "\n",
    "\n",
    "Decorator (декоратор, wrapper, обертка) – паттерн, структурирующий объекты. Динамически добавляет объекту новые обязанности, оборачивая их в полезные «обёртки». Является гибкой альтернативой порождению подклассов с целью расширения функциональности.\n",
    "\n",
    "Декоратор следует использовать, если вы хотите добавить новые обязанности в поведении или состоянии отдельных объектов во время выполнения программы, но использование наследования не представляется возможным, поскольку это решение статическое и распространяется целиком на весь класс.\n",
    "\n",
    "\n",
    "\n",
    "\n"
   ]
  },
  {
   "cell_type": "code",
   "execution_count": null,
   "metadata": {},
   "outputs": [],
   "source": []
  }
 ],
 "metadata": {
  "kernelspec": {
   "display_name": "Python 3",
   "language": "python",
   "name": "python3"
  },
  "language_info": {
   "codemirror_mode": {
    "name": "ipython",
    "version": 3
   },
   "file_extension": ".py",
   "mimetype": "text/x-python",
   "name": "python",
   "nbconvert_exporter": "python",
   "pygments_lexer": "ipython3",
   "version": "3.7.3"
  }
 },
 "nbformat": 4,
 "nbformat_minor": 2
}
